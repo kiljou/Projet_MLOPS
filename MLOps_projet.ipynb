{
  "cells": [
    {
      "cell_type": "code",
      "execution_count": 86,
      "metadata": {},
      "outputs": [],
      "source": [
        "# Projet issu des données suivantes :\n",
        "\n",
        "# https://www.kaggle.com/datasets/iabhishekofficial/mobile-price-classification"
      ]
    },
    {
      "cell_type": "code",
      "execution_count": 87,
      "metadata": {
        "id": "xLJCz3SqeuYJ"
      },
      "outputs": [],
      "source": [
        "# Importation des library\n",
        "import numpy as np\n",
        "import pandas as pd\n",
        "import matplotlib.pyplot as plt\n",
        "import seaborn as sns\n",
        "from sklearn.datasets import make_classification\n",
        "from sklearn.metrics import roc_curve, auc\n",
        "from sklearn.preprocessing import label_binarize\n",
        "from sklearn.multiclass import OneVsRestClassifier\n",
        "from sklearn.linear_model import LogisticRegression\n",
        "from sklearn.model_selection import train_test_split\n",
        "from sklearn.preprocessing import StandardScaler\n",
        "from sklearn.pipeline import make_pipeline\n",
        "from sklearn.metrics import confusion_matrix,classification_report,accuracy_score"
      ]
    },
    {
      "cell_type": "code",
      "execution_count": 88,
      "metadata": {
        "colab": {
          "base_uri": "https://localhost:8080/",
          "height": 256
        },
        "id": "St89yccggMMw",
        "outputId": "f35d98b3-0d5e-4739-aada-aec7cb598635"
      },
      "outputs": [
        {
          "data": {
            "text/html": [
              "<div>\n",
              "<style scoped>\n",
              "    .dataframe tbody tr th:only-of-type {\n",
              "        vertical-align: middle;\n",
              "    }\n",
              "\n",
              "    .dataframe tbody tr th {\n",
              "        vertical-align: top;\n",
              "    }\n",
              "\n",
              "    .dataframe thead th {\n",
              "        text-align: right;\n",
              "    }\n",
              "</style>\n",
              "<table border=\"1\" class=\"dataframe\">\n",
              "  <thead>\n",
              "    <tr style=\"text-align: right;\">\n",
              "      <th></th>\n",
              "      <th>battery_power</th>\n",
              "      <th>blue</th>\n",
              "      <th>clock_speed</th>\n",
              "      <th>dual_sim</th>\n",
              "      <th>fc</th>\n",
              "      <th>four_g</th>\n",
              "      <th>int_memory</th>\n",
              "      <th>m_dep</th>\n",
              "      <th>mobile_wt</th>\n",
              "      <th>n_cores</th>\n",
              "      <th>...</th>\n",
              "      <th>px_height</th>\n",
              "      <th>px_width</th>\n",
              "      <th>ram</th>\n",
              "      <th>sc_h</th>\n",
              "      <th>sc_w</th>\n",
              "      <th>talk_time</th>\n",
              "      <th>three_g</th>\n",
              "      <th>touch_screen</th>\n",
              "      <th>wifi</th>\n",
              "      <th>price_range</th>\n",
              "    </tr>\n",
              "  </thead>\n",
              "  <tbody>\n",
              "    <tr>\n",
              "      <th>0</th>\n",
              "      <td>842</td>\n",
              "      <td>0</td>\n",
              "      <td>2.2</td>\n",
              "      <td>0</td>\n",
              "      <td>1</td>\n",
              "      <td>0</td>\n",
              "      <td>7</td>\n",
              "      <td>0.6</td>\n",
              "      <td>188</td>\n",
              "      <td>2</td>\n",
              "      <td>...</td>\n",
              "      <td>20</td>\n",
              "      <td>756</td>\n",
              "      <td>2549</td>\n",
              "      <td>9</td>\n",
              "      <td>7</td>\n",
              "      <td>19</td>\n",
              "      <td>0</td>\n",
              "      <td>0</td>\n",
              "      <td>1</td>\n",
              "      <td>1</td>\n",
              "    </tr>\n",
              "    <tr>\n",
              "      <th>1</th>\n",
              "      <td>1021</td>\n",
              "      <td>1</td>\n",
              "      <td>0.5</td>\n",
              "      <td>1</td>\n",
              "      <td>0</td>\n",
              "      <td>1</td>\n",
              "      <td>53</td>\n",
              "      <td>0.7</td>\n",
              "      <td>136</td>\n",
              "      <td>3</td>\n",
              "      <td>...</td>\n",
              "      <td>905</td>\n",
              "      <td>1988</td>\n",
              "      <td>2631</td>\n",
              "      <td>17</td>\n",
              "      <td>3</td>\n",
              "      <td>7</td>\n",
              "      <td>1</td>\n",
              "      <td>1</td>\n",
              "      <td>0</td>\n",
              "      <td>2</td>\n",
              "    </tr>\n",
              "    <tr>\n",
              "      <th>2</th>\n",
              "      <td>563</td>\n",
              "      <td>1</td>\n",
              "      <td>0.5</td>\n",
              "      <td>1</td>\n",
              "      <td>2</td>\n",
              "      <td>1</td>\n",
              "      <td>41</td>\n",
              "      <td>0.9</td>\n",
              "      <td>145</td>\n",
              "      <td>5</td>\n",
              "      <td>...</td>\n",
              "      <td>1263</td>\n",
              "      <td>1716</td>\n",
              "      <td>2603</td>\n",
              "      <td>11</td>\n",
              "      <td>2</td>\n",
              "      <td>9</td>\n",
              "      <td>1</td>\n",
              "      <td>1</td>\n",
              "      <td>0</td>\n",
              "      <td>2</td>\n",
              "    </tr>\n",
              "    <tr>\n",
              "      <th>3</th>\n",
              "      <td>615</td>\n",
              "      <td>1</td>\n",
              "      <td>2.5</td>\n",
              "      <td>0</td>\n",
              "      <td>0</td>\n",
              "      <td>0</td>\n",
              "      <td>10</td>\n",
              "      <td>0.8</td>\n",
              "      <td>131</td>\n",
              "      <td>6</td>\n",
              "      <td>...</td>\n",
              "      <td>1216</td>\n",
              "      <td>1786</td>\n",
              "      <td>2769</td>\n",
              "      <td>16</td>\n",
              "      <td>8</td>\n",
              "      <td>11</td>\n",
              "      <td>1</td>\n",
              "      <td>0</td>\n",
              "      <td>0</td>\n",
              "      <td>2</td>\n",
              "    </tr>\n",
              "    <tr>\n",
              "      <th>4</th>\n",
              "      <td>1821</td>\n",
              "      <td>1</td>\n",
              "      <td>1.2</td>\n",
              "      <td>0</td>\n",
              "      <td>13</td>\n",
              "      <td>1</td>\n",
              "      <td>44</td>\n",
              "      <td>0.6</td>\n",
              "      <td>141</td>\n",
              "      <td>2</td>\n",
              "      <td>...</td>\n",
              "      <td>1208</td>\n",
              "      <td>1212</td>\n",
              "      <td>1411</td>\n",
              "      <td>8</td>\n",
              "      <td>2</td>\n",
              "      <td>15</td>\n",
              "      <td>1</td>\n",
              "      <td>1</td>\n",
              "      <td>0</td>\n",
              "      <td>1</td>\n",
              "    </tr>\n",
              "  </tbody>\n",
              "</table>\n",
              "<p>5 rows × 21 columns</p>\n",
              "</div>"
            ],
            "text/plain": [
              "   battery_power  blue  clock_speed  dual_sim  fc  four_g  int_memory  m_dep  \\\n",
              "0            842     0          2.2         0   1       0           7    0.6   \n",
              "1           1021     1          0.5         1   0       1          53    0.7   \n",
              "2            563     1          0.5         1   2       1          41    0.9   \n",
              "3            615     1          2.5         0   0       0          10    0.8   \n",
              "4           1821     1          1.2         0  13       1          44    0.6   \n",
              "\n",
              "   mobile_wt  n_cores  ...  px_height  px_width   ram  sc_h  sc_w  talk_time  \\\n",
              "0        188        2  ...         20       756  2549     9     7         19   \n",
              "1        136        3  ...        905      1988  2631    17     3          7   \n",
              "2        145        5  ...       1263      1716  2603    11     2          9   \n",
              "3        131        6  ...       1216      1786  2769    16     8         11   \n",
              "4        141        2  ...       1208      1212  1411     8     2         15   \n",
              "\n",
              "   three_g  touch_screen  wifi  price_range  \n",
              "0        0             0     1            1  \n",
              "1        1             1     0            2  \n",
              "2        1             1     0            2  \n",
              "3        1             0     0            2  \n",
              "4        1             1     0            1  \n",
              "\n",
              "[5 rows x 21 columns]"
            ]
          },
          "execution_count": 88,
          "metadata": {},
          "output_type": "execute_result"
        }
      ],
      "source": [
        "# Import des données\n",
        "\n",
        "df_train = pd.read_csv('train.csv', sep = ',')\n",
        "df_train.head()"
      ]
    },
    {
      "cell_type": "code",
      "execution_count": 89,
      "metadata": {},
      "outputs": [
        {
          "name": "stdout",
          "output_type": "stream",
          "text": [
            "Index(['battery_power', 'blue', 'clock_speed', 'dual_sim', 'fc', 'four_g',\n",
            "       'int_memory', 'm_dep', 'mobile_wt', 'n_cores', 'pc', 'px_height',\n",
            "       'px_width', 'ram', 'sc_h', 'sc_w', 'talk_time', 'three_g',\n",
            "       'touch_screen', 'wifi', 'price_range'],\n",
            "      dtype='object')\n"
          ]
        }
      ],
      "source": [
        "# Obtenir les noms des variables\n",
        "noms_variables = df_train.columns\n",
        "\n",
        "# Afficher les noms des variables\n",
        "print(noms_variables)"
      ]
    },
    {
      "attachments": {},
      "cell_type": "markdown",
      "metadata": {},
      "source": [
        "On décide de modifier le nom de nos variables ainsi que des modalités de la variable à expliquer"
      ]
    },
    {
      "cell_type": "code",
      "execution_count": 90,
      "metadata": {},
      "outputs": [],
      "source": [
        "# modification des noms des variables\n",
        "df_train = df_train.rename(columns={'battery_power': 'puissance_batterie', \n",
        "                         'blue': 'Bluetooth', \n",
        "                         'clock_speed': 'vitesse_micro_pross', \n",
        "                         'fc': 'nb_pixels_camera_front', \n",
        "                         'four_g': '4G', \n",
        "                         'int_memory': 'mémoire_interne',\n",
        "                         'm_dep': 'profondeur_tel',\n",
        "                         'mobile_wt': 'poids_tel',\n",
        "                         'n_cores': 'nb_coeurs',\n",
        "                         'pc': 'nb_pixels_camera_externe',\n",
        "                         'px_height': 'pixels_resolution_hauteur',\n",
        "                         'px_width': 'pixels_resolution_largeur',\n",
        "                         'sc_h': 'hauteur_tel',\n",
        "                         'sc_w': 'largeur_tel',\n",
        "                         'talk_time': 'duree_batterie_appel',\n",
        "                         'three_g': '3G',\n",
        "                         'touch_screen': 'ecran_tactile'})"
      ]
    },
    {
      "cell_type": "code",
      "execution_count": 91,
      "metadata": {},
      "outputs": [
        {
          "name": "stdout",
          "output_type": "stream",
          "text": [
            "Modalités de la price_range : ['prix moyen' 'prix élevé' 'haut de gamme' 'bas de gamme']\n"
          ]
        }
      ],
      "source": [
        "# Remplacer les modalités dans la colonne\n",
        "nouveaux_noms_modalites = {0: 'bas de gamme', 1: 'prix moyen', 2: 'prix élevé', 3: 'haut de gamme'}\n",
        "df_train['price_range'] = df_train['price_range'].replace(nouveaux_noms_modalites)\n",
        "\n",
        "# Afficher les modalités de la colonne\n",
        "modalites = df_train['price_range'].unique()\n",
        "\n",
        "# Afficher les modalités\n",
        "print(\"Modalités de la price_range :\", modalites)"
      ]
    },
    {
      "cell_type": "code",
      "execution_count": 92,
      "metadata": {},
      "outputs": [],
      "source": [
        "# On sépare la variable à expliquer des variables explicatives\n",
        "X = df_train.drop(\"price_range\",axis=1)\n",
        "y = df_train['price_range']"
      ]
    },
    {
      "cell_type": "code",
      "execution_count": 93,
      "metadata": {},
      "outputs": [],
      "source": [
        "# On split le train et le test à 80 % et 20 %\n",
        "X_train, X_test, y_train, y_test = train_test_split( X, y, test_size=0.2, random_state=0, stratify=y)"
      ]
    },
    {
      "cell_type": "code",
      "execution_count": 94,
      "metadata": {},
      "outputs": [],
      "source": [
        "# On prévoit d'utiliser le scaler pour centrer et réduire les variables quantitatives\n",
        "scaler = StandardScaler()"
      ]
    },
    {
      "cell_type": "code",
      "execution_count": 95,
      "metadata": {},
      "outputs": [],
      "source": [
        "# On applique le scaler à nos échantillons\n",
        "X_train = scaler.fit_transform(X_train)\n",
        "X_test = scaler.transform(X_test)"
      ]
    },
    {
      "cell_type": "code",
      "execution_count": 96,
      "metadata": {},
      "outputs": [
        {
          "data": {
            "text/html": [
              "<style>#sk-container-id-4 {color: black;background-color: white;}#sk-container-id-4 pre{padding: 0;}#sk-container-id-4 div.sk-toggleable {background-color: white;}#sk-container-id-4 label.sk-toggleable__label {cursor: pointer;display: block;width: 100%;margin-bottom: 0;padding: 0.3em;box-sizing: border-box;text-align: center;}#sk-container-id-4 label.sk-toggleable__label-arrow:before {content: \"▸\";float: left;margin-right: 0.25em;color: #696969;}#sk-container-id-4 label.sk-toggleable__label-arrow:hover:before {color: black;}#sk-container-id-4 div.sk-estimator:hover label.sk-toggleable__label-arrow:before {color: black;}#sk-container-id-4 div.sk-toggleable__content {max-height: 0;max-width: 0;overflow: hidden;text-align: left;background-color: #f0f8ff;}#sk-container-id-4 div.sk-toggleable__content pre {margin: 0.2em;color: black;border-radius: 0.25em;background-color: #f0f8ff;}#sk-container-id-4 input.sk-toggleable__control:checked~div.sk-toggleable__content {max-height: 200px;max-width: 100%;overflow: auto;}#sk-container-id-4 input.sk-toggleable__control:checked~label.sk-toggleable__label-arrow:before {content: \"▾\";}#sk-container-id-4 div.sk-estimator input.sk-toggleable__control:checked~label.sk-toggleable__label {background-color: #d4ebff;}#sk-container-id-4 div.sk-label input.sk-toggleable__control:checked~label.sk-toggleable__label {background-color: #d4ebff;}#sk-container-id-4 input.sk-hidden--visually {border: 0;clip: rect(1px 1px 1px 1px);clip: rect(1px, 1px, 1px, 1px);height: 1px;margin: -1px;overflow: hidden;padding: 0;position: absolute;width: 1px;}#sk-container-id-4 div.sk-estimator {font-family: monospace;background-color: #f0f8ff;border: 1px dotted black;border-radius: 0.25em;box-sizing: border-box;margin-bottom: 0.5em;}#sk-container-id-4 div.sk-estimator:hover {background-color: #d4ebff;}#sk-container-id-4 div.sk-parallel-item::after {content: \"\";width: 100%;border-bottom: 1px solid gray;flex-grow: 1;}#sk-container-id-4 div.sk-label:hover label.sk-toggleable__label {background-color: #d4ebff;}#sk-container-id-4 div.sk-serial::before {content: \"\";position: absolute;border-left: 1px solid gray;box-sizing: border-box;top: 0;bottom: 0;left: 50%;z-index: 0;}#sk-container-id-4 div.sk-serial {display: flex;flex-direction: column;align-items: center;background-color: white;padding-right: 0.2em;padding-left: 0.2em;position: relative;}#sk-container-id-4 div.sk-item {position: relative;z-index: 1;}#sk-container-id-4 div.sk-parallel {display: flex;align-items: stretch;justify-content: center;background-color: white;position: relative;}#sk-container-id-4 div.sk-item::before, #sk-container-id-4 div.sk-parallel-item::before {content: \"\";position: absolute;border-left: 1px solid gray;box-sizing: border-box;top: 0;bottom: 0;left: 50%;z-index: -1;}#sk-container-id-4 div.sk-parallel-item {display: flex;flex-direction: column;z-index: 1;position: relative;background-color: white;}#sk-container-id-4 div.sk-parallel-item:first-child::after {align-self: flex-end;width: 50%;}#sk-container-id-4 div.sk-parallel-item:last-child::after {align-self: flex-start;width: 50%;}#sk-container-id-4 div.sk-parallel-item:only-child::after {width: 0;}#sk-container-id-4 div.sk-dashed-wrapped {border: 1px dashed gray;margin: 0 0.4em 0.5em 0.4em;box-sizing: border-box;padding-bottom: 0.4em;background-color: white;}#sk-container-id-4 div.sk-label label {font-family: monospace;font-weight: bold;display: inline-block;line-height: 1.2em;}#sk-container-id-4 div.sk-label-container {text-align: center;}#sk-container-id-4 div.sk-container {/* jupyter's `normalize.less` sets `[hidden] { display: none; }` but bootstrap.min.css set `[hidden] { display: none !important; }` so we also need the `!important` here to be able to override the default hidden behavior on the sphinx rendered scikit-learn.org. See: https://github.com/scikit-learn/scikit-learn/issues/21755 */display: inline-block !important;position: relative;}#sk-container-id-4 div.sk-text-repr-fallback {display: none;}</style><div id=\"sk-container-id-4\" class=\"sk-top-container\"><div class=\"sk-text-repr-fallback\"><pre>LogisticRegression()</pre><b>In a Jupyter environment, please rerun this cell to show the HTML representation or trust the notebook. <br />On GitHub, the HTML representation is unable to render, please try loading this page with nbviewer.org.</b></div><div class=\"sk-container\" hidden><div class=\"sk-item\"><div class=\"sk-estimator sk-toggleable\"><input class=\"sk-toggleable__control sk-hidden--visually\" id=\"sk-estimator-id-4\" type=\"checkbox\" checked><label for=\"sk-estimator-id-4\" class=\"sk-toggleable__label sk-toggleable__label-arrow\">LogisticRegression</label><div class=\"sk-toggleable__content\"><pre>LogisticRegression()</pre></div></div></div></div></div>"
            ],
            "text/plain": [
              "LogisticRegression()"
            ]
          },
          "execution_count": 96,
          "metadata": {},
          "output_type": "execute_result"
        }
      ],
      "source": [
        "# Application de la regression logistique sur notre échantillon d'apprentissage\n",
        "model = LogisticRegression()\n",
        "model.fit(X_train,y_train)"
      ]
    },
    {
      "cell_type": "code",
      "execution_count": 97,
      "metadata": {},
      "outputs": [
        {
          "name": "stdout",
          "output_type": "stream",
          "text": [
            "0.95 0.935\n"
          ]
        }
      ],
      "source": [
        "# Création de la pipeline\n",
        "pLg = make_pipeline(StandardScaler(),\n",
        "                    LogisticRegression(max_iter=1000,C=0.1))\n",
        "pLg.fit(X_train, y_train)\n",
        "print(pLg.score(X_train, y_train), pLg.score(X_test, y_test))"
      ]
    },
    {
      "cell_type": "code",
      "execution_count": 98,
      "metadata": {},
      "outputs": [
        {
          "name": "stdout",
          "output_type": "stream",
          "text": [
            "-------------------------------------------------------------------------\n",
            "L'accuracy est de : ------>>  0.9725\n",
            "-------------------------------------------------------------------------\n",
            "La matrice de confusion (%) est la suivante : ------>> \n",
            "[[97.  0.  3.  0.]\n",
            " [ 0. 99.  0.  1.]\n",
            " [ 2.  0. 95.  3.]\n",
            " [ 0.  0.  2. 98.]]\n",
            "-------------------------------------------------------------------------\n",
            "Tableau récapitulatif : ---->>                precision    recall  f1-score   support\n",
            "\n",
            " bas de gamme       0.98      0.97      0.97       100\n",
            "haut de gamme       1.00      0.99      0.99       100\n",
            "   prix moyen       0.95      0.95      0.95       100\n",
            "   prix élevé       0.96      0.98      0.97       100\n",
            "\n",
            "     accuracy                           0.97       400\n",
            "    macro avg       0.97      0.97      0.97       400\n",
            " weighted avg       0.97      0.97      0.97       400\n",
            "\n"
          ]
        }
      ],
      "source": [
        "y_pred = model.predict(X_test)\n",
        "conf_matrix = confusion_matrix(y_test, y_pred)\n",
        "\n",
        "# Convertir la matrice de confusion en pourcentage\n",
        "conf_matrix_percent = conf_matrix / conf_matrix.sum(axis=1, keepdims=True) * 100\n",
        "\n",
        "print(\"-------------------------------------------------------------------------\")\n",
        "print(f\"L'accuracy est de : ------>>  {accuracy_score(y_test, y_pred)}\")\n",
        "print(\"-------------------------------------------------------------------------\")\n",
        "print(f\"La matrice de confusion (%) est la suivante : ------>> \\n{conf_matrix_percent}\")\n",
        "print(\"-------------------------------------------------------------------------\")\n",
        "print(f\"Tableau récapitulatif : ---->> {classification_report(y_test, y_pred)}\")"
      ]
    },
    {
      "cell_type": "code",
      "execution_count": 99,
      "metadata": {},
      "outputs": [
        {
          "data": {
            "image/png": "[encoded data removed]",
            "text/plain": [
              "<Figure size 800x800 with 1 Axes>"
            ]
          },
          "metadata": {},
          "output_type": "display_data"
        }
      ],
      "source": [
        "# Création de la courbe de ROC\n",
        "\n",
        "# Générer des données de démonstration\n",
        "X, y = make_classification(n_samples=1000, n_classes=4, n_clusters_per_class=1, random_state=42)\n",
        "\n",
        "# Binariser les étiquettes\n",
        "y_bin = label_binarize(y, classes=[0, 1, 2, 3])\n",
        "\n",
        "# Diviser les données en ensemble d'entraînement et ensemble de test\n",
        "X_train, X_test, y_train, y_test = train_test_split(X, y_bin, test_size=0.2, random_state=42)\n",
        "\n",
        "# Utiliser OneVsRestClassifier avec un classificateur binaire (par exemple, Logistic Regression)\n",
        "classifier = OneVsRestClassifier(LogisticRegression())\n",
        "\n",
        "# Ajuster le modèle\n",
        "classifier.fit(X_train, y_train)\n",
        "\n",
        "# Obtenir les scores des probabilités\n",
        "y_score = classifier.predict_proba(X_test)\n",
        "\n",
        "# Calculer les courbes ROC et les aires sous la courbe pour chaque classe\n",
        "fpr = dict()\n",
        "tpr = dict()\n",
        "roc_auc = dict()\n",
        "for i in range(4):  # 4 classes dans cet exemple\n",
        "    fpr[i], tpr[i], _ = roc_curve(y_test[:, i], y_score[:, i])\n",
        "    roc_auc[i] = auc(fpr[i], tpr[i])\n",
        "\n",
        "# Tracer les courbes ROC\n",
        "plt.figure(figsize=(8, 8))\n",
        "for i in range(4):\n",
        "    plt.plot(fpr[i], tpr[i], label=f'{nouveaux_noms_modalites[i]} (AUC = {roc_auc[i]:.2f})')\n",
        "\n",
        "plt.plot([0, 1], [0, 1], color='navy', lw=2, linestyle='--')\n",
        "plt.xlabel('False Positive Rate')\n",
        "plt.ylabel('True Positive Rate')\n",
        "plt.title('Receiver Operating Characteristic (ROC) Curve - Multiclass')\n",
        "plt.legend(loc='lower right')\n",
        "plt.show()"
      ]
    },
    {
      "cell_type": "code",
      "execution_count": 102,
      "metadata": {},
      "outputs": [
        {
          "name": "stdout",
          "output_type": "stream",
          "text": [
            "Coefficients pour la classe 0:\n",
            "puissance_batterie: -0.008666737180480347\n",
            "Bluetooth: 0.3253838204792528\n",
            "vitesse_micro_pross: -0.007285305856656424\n",
            "dual_sim: -0.05703754383294947\n",
            "nb_pixels_camera_front: -0.05807922269258151\n",
            "4G: -0.28033242314101076\n",
            "mémoire_interne: 0.043041627407530925\n",
            "profondeur_tel: 0.046077884367161016\n",
            "poids_tel: 0.0460872901825854\n",
            "nb_coeurs: 0.0399121728027788\n",
            "nb_pixels_camera_externe: -0.07808046775178075\n",
            "pixels_resolution_hauteur: -0.27972148606509256\n",
            "pixels_resolution_largeur: 0.07788004811549955\n",
            "ram: -0.07119349738768545\n",
            "hauteur_tel: -0.4948493734602192\n",
            "largeur_tel: -0.02187447209174078\n",
            "duree_batterie_appel: -0.05427772557529652\n",
            "3G: -0.0372380435946534\n",
            "ecran_tactile: 0.24616889284741467\n",
            "wifi: -0.03497729926726071\n",
            "\n",
            "\n",
            "Coefficients pour la classe 1:\n",
            "puissance_batterie: 0.004765920859526669\n",
            "Bluetooth: 0.04364435099640051\n",
            "vitesse_micro_pross: 0.1140240217600803\n",
            "dual_sim: 0.03395689000032007\n",
            "nb_pixels_camera_front: -0.0337153405787394\n",
            "4G: 0.6304326106657738\n",
            "mémoire_interne: -0.04272540316544274\n",
            "profondeur_tel: -0.04354605129840152\n",
            "poids_tel: -0.019652089296208177\n",
            "nb_coeurs: -0.08728726779035294\n",
            "nb_pixels_camera_externe: 0.08562462722488151\n",
            "pixels_resolution_hauteur: 0.1342355409124502\n",
            "pixels_resolution_largeur: -0.08867058802497432\n",
            "ram: 0.04365071050668085\n",
            "hauteur_tel: -0.7810290989255985\n",
            "largeur_tel: -0.008792395973850224\n",
            "duree_batterie_appel: 0.014801638807910253\n",
            "3G: -0.0858204095674844\n",
            "ecran_tactile: -0.1857097146476628\n",
            "wifi: 0.03597653593835305\n",
            "\n",
            "\n",
            "Coefficients pour la classe 2:\n",
            "puissance_batterie: -0.04199445192527254\n",
            "Bluetooth: -0.10752880226854564\n",
            "vitesse_micro_pross: -0.09636200040776005\n",
            "dual_sim: 0.057196285247120816\n",
            "nb_pixels_camera_front: 0.13008312805076758\n",
            "4G: -1.2610813198662505\n",
            "mémoire_interne: 0.03492039809362554\n",
            "profondeur_tel: 0.04803111656848359\n",
            "poids_tel: 0.08024629640382634\n",
            "nb_coeurs: -0.0010423828370810346\n",
            "nb_pixels_camera_externe: -0.051207950758224506\n",
            "pixels_resolution_hauteur: 0.08253531770477476\n",
            "pixels_resolution_largeur: -0.1365975779015045\n",
            "ram: 0.038103514083217924\n",
            "hauteur_tel: 1.6117255286254981\n",
            "largeur_tel: -0.01883784539583373\n",
            "duree_batterie_appel: 0.11594206020039444\n",
            "3G: 0.3009241691863339\n",
            "ecran_tactile: 0.36188704240961406\n",
            "wifi: -0.00605146803773389\n",
            "\n",
            "\n",
            "Coefficients pour la classe 3:\n",
            "puissance_batterie: 0.04661801030092146\n",
            "Bluetooth: -0.2547689362794098\n",
            "vitesse_micro_pross: 0.050847795140044665\n",
            "dual_sim: 0.042661020828245154\n",
            "nb_pixels_camera_front: 0.033057196767139634\n",
            "4G: 0.2594706198863933\n",
            "mémoire_interne: 0.008753316882283197\n",
            "profondeur_tel: 0.0155116137045031\n",
            "poids_tel: -0.024185761404102484\n",
            "nb_coeurs: 0.11247835008882513\n",
            "nb_pixels_camera_externe: 0.04765727407396775\n",
            "pixels_resolution_hauteur: 0.0475915924042301\n",
            "pixels_resolution_largeur: 0.08711314549534026\n",
            "ram: -0.003122039361369805\n",
            "hauteur_tel: 0.34469122179281264\n",
            "largeur_tel: 0.018056923047194726\n",
            "duree_batterie_appel: 0.035974774581776274\n",
            "3G: 0.015203208842459815\n",
            "ecran_tactile: -0.20583426493209112\n",
            "wifi: 0.022294357167889002\n",
            "\n",
            "\n"
          ]
        }
      ],
      "source": [
        "# Convertir les données en DataFrame Pandas avec des noms de colonnes\n",
        "columns = [f'Feature_{i}' for i in range(X.shape[1])]\n",
        "X_df = pd.DataFrame(X, columns=columns)\n",
        "\n",
        "# Diviser les données en ensemble d'entraînement et ensemble de test\n",
        "X_train, X_test, y_train, y_test = train_test_split(X_df, y, test_size=0.2, random_state=42)\n",
        "\n",
        "# Créer et ajuster le modèle de régression logistique pour chaque classe spécifique\n",
        "for classe_specifique in np.unique(y):\n",
        "    # Créer et ajuster le modèle de régression logistique pour la classe spécifique\n",
        "    model = LogisticRegression(multi_class='multinomial', solver='lbfgs')\n",
        "    model.fit(X_train, (y_train == classe_specifique).astype(int))\n",
        "\n",
        "    # Obtenir les coefficients avec les noms des variables\n",
        "    coefficients = model.coef_\n",
        "\n",
        "    # Afficher les coefficients avec les noms des variables\n",
        "    print(f'Coefficients pour la classe {classe_specifique}:')\n",
        "    for j, coef in enumerate(coefficients[0]):\n",
        "        print(f'{df_train.columns[j]}: {coef}')\n",
        "    print(\"\\n\")"
      ]
    }
  ],
  "metadata": {
    "colab": {
      "provenance": []
    },
    "kernelspec": {
      "display_name": "Python 3",
      "name": "python3"
    },
    "language_info": {
      "codemirror_mode": {
        "name": "ipython",
        "version": 3
      },
      "file_extension": ".py",
      "mimetype": "text/x-python",
      "name": "python",
      "nbconvert_exporter": "python",
      "pygments_lexer": "ipython3",
      "version": "3.10.9"
    }
  },
  "nbformat": 4,
  "nbformat_minor": 0
}
